{
 "cells": [
  {
   "cell_type": "markdown",
   "metadata": {},
   "source": [
    "# Data Mining\n",
    "### Project for Data Mining, Spring 2019\n",
    "\n",
    "\n",
    "Contributors\n",
    "------------\n",
    "\n",
    "* [Sofia Kostakonti](https://github.com/SofiaKstk/ \"Sofia Kostakonti\") : 1115201500080\n",
    "* [Ioannis Pelekoudas](https://github.com/pelekoudasq/ \"Ioannis Pelekoudas\") : 1115201500128"
   ]
  },
  {
   "cell_type": "markdown",
   "metadata": {},
   "source": [
    "#### First Part - Clean Data\n",
    "\n",
    "Αφαιρούμε τα σύμβολα, όπως hashtags, emoticons, τα links και τα stopwords από το training set."
   ]
  },
  {
   "cell_type": "markdown",
   "metadata": {},
   "source": [
    "#### Second Part - Tokenization\n",
    "\n",
    "Διαχωρισμός των λέξεων."
   ]
  },
  {
   "cell_type": "code",
   "execution_count": 1,
   "metadata": {},
   "outputs": [],
   "source": [
    "import pandas as pd\n",
    "import numpy as np\n",
    "from emoji import UNICODE_EMOJI\n",
    "import re\n",
    "import nltk\n",
    "import string\n",
    "import sklearn\n",
    "import pickle"
   ]
  },
  {
   "cell_type": "code",
   "execution_count": 2,
   "metadata": {},
   "outputs": [],
   "source": [
    "DataLocation = r'./twitter_data/test2017.tsv'\n",
    "\n",
    "df = pd.read_csv(DataLocation, sep='\\t', header=None, usecols=[3])\n",
    "sd = df\n",
    "sd.columns = [\"tweets\"]\n",
    "\n",
    "from nltk.tokenize import TweetTokenizer\n",
    "tkn = TweetTokenizer()\n",
    "tokens = tkn.tokenize(' '.join(sd['tweets']))\n",
    "\n",
    "from nltk.corpus import stopwords\n",
    "stop = stopwords.words(\"english\")\n",
    "\n",
    "tokens_clean1 = [word.lower() for word in tokens if word not in string.punctuation and word != '...' and word!='..']\n",
    "tokens_stop = [word for word in tokens_clean1 if word not in (stop)]\n",
    "tokens_clean = [re.sub(r'^@.*', '@user', word) for word in tokens_stop]\n",
    "tokens_clean = [re.sub(r'^#.*', '#hashtag', word) for word in tokens_clean]\n",
    "tokens_clean = [re.sub(r'[0-9]+', '$number', word) for word in tokens_clean]\n",
    "tokens_clean = [re.sub(r'(?:(?:https?|ftp):\\/\\/)?[\\w/\\-?=%.]+\\.[\\w/\\-?=%.]+', '%url', word) for word in tokens_clean]\n",
    "#tokens_clean = [for word in tokens_clean: '<emoji>' if word in UNICODE_EMOJI else word]\n"
   ]
  },
  {
   "cell_type": "code",
   "execution_count": 3,
   "metadata": {},
   "outputs": [],
   "source": [
    "with open ('clean_test', 'wb') as file:\n",
    "    pickle.dump(tokens_clean, file)"
   ]
  },
  {
   "cell_type": "markdown",
   "metadata": {},
   "source": [
    "## Στατιστικά και δεδομένα για τις λέξεις όλων των tweets συνολικά."
   ]
  },
  {
   "cell_type": "markdown",
   "metadata": {},
   "source": [
    "##### Wordcloud για όλες τις λέξεις."
   ]
  },
  {
   "cell_type": "code",
   "execution_count": null,
   "metadata": {
    "scrolled": true
   },
   "outputs": [
    {
     "data": {
      "text/plain": [
       "(-0.5, 1599.5, 799.5, -0.5)"
      ]
     },
     "execution_count": 4,
     "metadata": {},
     "output_type": "execute_result"
    }
   ],
   "source": [
    "#python -m pip install --user wordcloud\n",
    "\n",
    "from wordcloud import WordCloud, STOPWORDS\n",
    "import matplotlib.pyplot as plt\n",
    "\n",
    "with open('clean_test', 'rb') as file:\n",
    "    tokens_clean = pickle.load(file)\n",
    "\n",
    "texts = {}\n",
    "texts = ' '.join(tokens_clean)\n",
    "my_stopwords = {'hashtag', 'user', 'number', 'url', 'in', 'is', 'that', 'it', 'and', 'for', 'he', 'i\\'m', 'to', 'you', 'this', 'the'}\n",
    "stop_words = STOPWORDS.union(my_stopwords)\n",
    "\n",
    "wordcloud = WordCloud(max_font_size=200, min_font_size=10, max_words=500, stopwords=stop_words, background_color=\"white\", relative_scaling=.4, height=800, width=1600).generate(texts)\n",
    "plt.figure(figsize=(60,40))\n",
    "plt.title('All Words')\n",
    "plt.imshow(wordcloud)\n",
    "plt.axis('off')\n"
   ]
  },
  {
   "cell_type": "markdown",
   "metadata": {},
   "source": [
    "Χωρίζουμε τις λέξεις σε θετικές και αρνητικές σύμφωνα με το λεξικό που έχει δωθεί προκειμένου να πάρουμε κάποια στατιστικά στοιχεία."
   ]
  },
  {
   "cell_type": "code",
   "execution_count": null,
   "metadata": {},
   "outputs": [],
   "source": [
    "Lexica = r'./lexica/affin/affin.txt'\n",
    "\n",
    "lex = pd.read_csv(Lexica, sep=\"\\t\", header=None)\n",
    "lex.columns = [\"word\", \"weight\"]\n",
    "\n",
    "positive=[]\n",
    "negative=[]\n",
    "non=[]\n",
    "\n",
    "hasht = users = num = url = 0\n",
    "\n",
    "for w in tokens_clean:\n",
    "    if '#hashtag' in w:\n",
    "        hasht += 1\n",
    "    elif '@user' in w:\n",
    "        users += 1\n",
    "    elif '$number' in w:\n",
    "        num += 1\n",
    "    elif '%url' in w:\n",
    "        url += 1\n",
    "    else:\n",
    "        flag = 0\n",
    "        for i in range(len(lex)):\n",
    "            if w == lex['word'][i]:\n",
    "                flag = 1\n",
    "                if lex['weight'][i] < 0:\n",
    "                    negative.append(w)\n",
    "                else:\n",
    "                    positive.append(w)\n",
    "        if flag == 0:\n",
    "            non.append(w)\n"
   ]
  },
  {
   "cell_type": "markdown",
   "metadata": {},
   "source": [
    "#### Στατιστικά για hashtags, usertags, urls και αριθμούς."
   ]
  },
  {
   "cell_type": "code",
   "execution_count": null,
   "metadata": {},
   "outputs": [],
   "source": [
    "hashper = round(hasht / len(tokens_clean) *100)\n",
    "userper = round(users / len(tokens_clean) *100)\n",
    "numper = round(num / len(tokens_clean) *100)\n",
    "urlper = round(url / len(tokens_clean) *100)\n",
    "print ('Hashtags    Usertags     Numbers     Urls')\n",
    "print (str(hashper)+ '%         '+str(userper)+ '%           '+str(numper)+ '%          '+str(urlper)+'%')"
   ]
  },
  {
   "cell_type": "markdown",
   "metadata": {},
   "source": [
    " ##### Wordcloud για τις θετικές λέξεις."
   ]
  },
  {
   "cell_type": "code",
   "execution_count": null,
   "metadata": {},
   "outputs": [],
   "source": [
    "pos = ' '.join(positive)\n",
    "cloudPos = WordCloud(max_font_size=200, min_font_size=10, max_words=500, stopwords=stop_words, background_color=\"white\", relative_scaling=.4, height=800, width=1600).generate(pos)\n",
    "plt.figure(figsize=(30, 20))\n",
    "plt.title('Positive Words')\n",
    "plt.imshow(cloudPos)\n",
    "plt.axis('off')"
   ]
  },
  {
   "cell_type": "markdown",
   "metadata": {},
   "source": [
    "##### Wordcloud για τις αρνητικές λέξεις."
   ]
  },
  {
   "cell_type": "code",
   "execution_count": null,
   "metadata": {},
   "outputs": [],
   "source": [
    "neg = ' '.join(negative)\n",
    "cloudNeg = WordCloud(max_font_size=200, min_font_size=10, max_words=500, stopwords=stop_words, background_color=\"white\", relative_scaling=.4, height=800, width=1600).generate(neg)\n",
    "plt.figure(figsize=(30, 20))\n",
    "plt.title('Negative Words')\n",
    "plt.imshow(cloudNeg)\n",
    "plt.axis('off')"
   ]
  },
  {
   "cell_type": "markdown",
   "metadata": {},
   "source": [
    "##### Wordcloud για όλες τις υπόλοιπες λέξεις που δεν υπάρχουν στο λεξικό."
   ]
  },
  {
   "cell_type": "code",
   "execution_count": null,
   "metadata": {},
   "outputs": [],
   "source": [
    "nan = ' '.join(non)\n",
    "cloudNan = WordCloud(max_font_size=200, min_font_size=10, max_words=500, stopwords=stop_words, background_color=\"white\", relative_scaling=.4, height=800, width=1600).generate(nan)\n",
    "plt.figure(figsize=(30, 20))\n",
    "plt.title('Other Words')\n",
    "plt.imshow(cloudNan)\n",
    "plt.axis('off')"
   ]
  },
  {
   "cell_type": "markdown",
   "metadata": {},
   "source": [
    "## Στατιστικά και δεδομένα για θετικά, αρνητικά και ουδέτερα tweets ξεχωριστά."
   ]
  },
  {
   "cell_type": "markdown",
   "metadata": {},
   "source": [
    "Παίρνουμε τα αποτελέσματα των tweets από το αρχείο gold και βγάζουμε κάποια συμπεράσματα."
   ]
  },
  {
   "cell_type": "code",
   "execution_count": null,
   "metadata": {},
   "outputs": [],
   "source": [
    "Gold = r'./twitter_data/SemEval2017_task4_subtaskA_test_english_gold.txt'\n",
    "\n",
    "res = pd.read_csv(Gold, sep=\"\\t\", header=None)\n",
    "#res.columns = [\"word\", \"weight\"]\n",
    "print (len(df))\n",
    "print (len(res))"
   ]
  },
  {
   "cell_type": "markdown",
   "metadata": {},
   "source": [
    "## Categorizing"
   ]
  },
  {
   "cell_type": "code",
   "execution_count": null,
   "metadata": {},
   "outputs": [],
   "source": [
    "trainSet = pd.read_csv(r'./twitter_data/train2017.tsv', sep='\\t', header=None, usecols=[2,3])\n",
    "testSet = pd.read_csv(r'./twitter_data/test2017.tsv', sep='\\t', header=None, usecols=[3])\n",
    "trainSet.columns = [\"review\", \"tweets\"]\n",
    "testSet.columns = ['tweets']\n",
    "small = trainSet\n",
    "\n",
    "from nltk.corpus import stopwords\n",
    "stop = stopwords.words(\"english\")\n",
    "\n",
    "train_tweets = []\n",
    "for t in small['tweets']:\n",
    "    tweet = t.split()\n",
    "    tokens_clean1 = [word.lower() for word in tweet if word not in string.punctuation and word != '...' and word!='..']\n",
    "    tokens_stop = [word for word in tokens_clean1 if word not in (stop)]\n",
    "    tokens_clean = [re.sub(r'^@.*', '@user', word) for word in tokens_stop]\n",
    "    tokens_clean = [re.sub(r'^#.*', '#hashtag', word) for word in tokens_clean]\n",
    "    tokens_clean = [re.sub(r'[0-9]+', '$number', word) for word in tokens_clean]\n",
    "    tokens_clean_train = [re.sub(r'(?:(?:https?|ftp):\\/\\/)?[\\w/\\-?=%.]+\\.[\\w/\\-?=%.]+', '%url', word) for word in tokens_clean]\n",
    "    t = ' '.join(tokens_clean_train)\n",
    "    train_tweets.append(t)\n",
    "\n",
    "test_tweets = []\n",
    "for t in testSet['tweets']:\n",
    "    tweet = t.split()\n",
    "    tokens_clean1 = [word.lower() for word in tweet if word not in string.punctuation and word != '...' and word!='..']\n",
    "    tokens_stop = [word for word in tokens_clean1 if word not in (stop)]\n",
    "    tokens_clean = [re.sub(r'^@.*', '@user', word) for word in tokens_stop]\n",
    "    tokens_clean = [re.sub(r'^#.*', '#hashtag', word) for word in tokens_clean]\n",
    "    tokens_clean = [re.sub(r'[0-9]+', '$number', word) for word in tokens_clean]\n",
    "    tokens_clean_train = [re.sub(r'(?:(?:https?|ftp):\\/\\/)?[\\w/\\-?=%.]+\\.[\\w/\\-?=%.]+', '%url', word) for word in tokens_clean]\n",
    "    t = ' '.join(tokens_clean_train)\n",
    "    test_tweets.append(t)\n",
    "\n",
    "with open ('review_train', 'wb') as file:\n",
    "    pickle.dump(small['review'], file)\n",
    "with open ('clean_train', 'wb') as file:\n",
    "    pickle.dump(train_tweets, file)\n",
    "with open ('clean_test', 'wb') as file:\n",
    "    pickle.dump(test_tweets, file)"
   ]
  },
  {
   "cell_type": "code",
   "execution_count": null,
   "metadata": {},
   "outputs": [],
   "source": [
    "with open('clean_train', 'rb') as file:\n",
    "    train_tweets = pickle.load(file)\n",
    "with open('clean_test', 'rb') as file:\n",
    "    test_tweets = pickle.load(file)"
   ]
  },
  {
   "cell_type": "markdown",
   "metadata": {},
   "source": [
    "### Bag of Words"
   ]
  },
  {
   "cell_type": "code",
   "execution_count": null,
   "metadata": {},
   "outputs": [],
   "source": [
    "from sklearn.feature_extraction.text import CountVectorizer\n",
    "\n",
    "bow_vectorizer = CountVectorizer(max_df=1.0, min_df=1, max_features=1000, stop_words=stop)\n",
    "bow_xtrain = bow_vectorizer.fit_transform(train_tweets)\n",
    "bow_xtest = bow_vectorizer.fit_transform(test_tweets)\n"
   ]
  },
  {
   "cell_type": "markdown",
   "metadata": {},
   "source": [
    "### TF-IDF"
   ]
  },
  {
   "cell_type": "code",
   "execution_count": null,
   "metadata": {},
   "outputs": [],
   "source": [
    "from sklearn.feature_extraction.text import TfidfVectorizer\n",
    "\n",
    "tfidf_vectorizer = TfidfVectorizer(max_df=1.0, min_df=1, max_features=1000, stop_words=stop)\n",
    "tfidf_xtrain = tfidf_vectorizer.fit_transform(train_tweets)\n",
    "tfidf_xtest = tfidf_vectorizer.fit_transform(test_tweets)"
   ]
  },
  {
   "cell_type": "markdown",
   "metadata": {},
   "source": [
    "### Word Embedding"
   ]
  },
  {
   "cell_type": "code",
   "execution_count": null,
   "metadata": {
    "scrolled": true
   },
   "outputs": [],
   "source": [
    "from nltk.tokenize import TweetTokenizer\n",
    "tkn = TweetTokenizer()\n",
    "\n",
    "tokenized_train = tkn.tokenize(' '.join(train_tweets))\n",
    "tokenized_test = tkn.tokenize(' '.join(test_tweets))\n",
    "\n",
    "tokens = tokenized_train + tokenized_test\n",
    "\n",
    "import gensim\n",
    "\n",
    "model_w2v = gensim.models.Word2Vec(\n",
    "            tokens,\n",
    "            size=200, # desired no. of features/independent variables\n",
    "            window=5, # context window size\n",
    "            min_count=2,\n",
    "            sg = 1, # 1 for skip-gram model\n",
    "            hs = 0,\n",
    "            negative = 10, # for negative sampling\n",
    "            workers= 2, # no.of cores\n",
    "            seed = 34) \n",
    "\n",
    "model_w2v.train(tokens, total_examples=(len(train_tweets) + len(test_tweets)), epochs=20)\n"
   ]
  },
  {
   "cell_type": "code",
   "execution_count": null,
   "metadata": {},
   "outputs": [],
   "source": []
  },
  {
   "cell_type": "code",
   "execution_count": null,
   "metadata": {},
   "outputs": [],
   "source": [
    "with open('review_train', 'rb') as file:\n",
    "    ytrain = pickle.load(file)\n",
    "    \n",
    "ytest = pd.read_csv(r'./twitter_data/SemEval2017_task4_subtaskA_test_english_gold.txt', sep='\\t', header=None, usecols=[1])\n"
   ]
  },
  {
   "cell_type": "code",
   "execution_count": null,
   "metadata": {},
   "outputs": [],
   "source": [
    "from sklearn.neighbors import KNeighborsClassifier\n",
    "\n",
    "knn = KNeighborsClassifier(n_neighbors = 3)\n",
    "knn.fit(bow_xtrain.toarray(), ytrain)"
   ]
  },
  {
   "cell_type": "code",
   "execution_count": null,
   "metadata": {},
   "outputs": [],
   "source": [
    "predict_bow_knn = knn.predict(bow_xtest.toarray())\n",
    "\n",
    "from sklearn.metrics import accuracy_score \n",
    "\n",
    "print (accuracy_score(ytest, predict_bow_knn))\n",
    "# accuracy with 3 neighbors = 0.43121133181374144"
   ]
  },
  {
   "cell_type": "code",
   "execution_count": null,
   "metadata": {},
   "outputs": [],
   "source": [
    "from sklearn.neighbors import KNeighborsClassifier\n",
    "\n",
    "knn = KNeighborsClassifier(n_neighbors = 3)\n",
    "knn.fit(tfidf_xtrain.toarray(), ytrain)\n",
    "predict_tfidf_knn = knn.predict(tfidf_xtest.toarray())\n",
    "\n",
    "from sklearn.metrics import accuracy_score \n",
    "\n",
    "print (accuracy_score(ytest, predict_tfidf_knn))\n",
    "# accuracy with 3 neighbors = 0.43121133181374144"
   ]
  },
  {
   "cell_type": "code",
   "execution_count": null,
   "metadata": {},
   "outputs": [],
   "source": [
    "from sklearn import svm\n",
    "\n",
    "svc = svm.SVC(kernel='linear', C=1, probability=True)\n",
    "svc.fit(bow_xtrain.toarray(), ytrain)\n",
    "predict_bow_svm = svc.predict(bow_xtest.toarray())\n",
    "\n",
    "from sklearn.metrics import accuracy_score \n",
    "\n",
    "print (accuracy_score(ytest, predict_bow_svm))\n",
    "# accuracy = 03990556821882123"
   ]
  },
  {
   "cell_type": "code",
   "execution_count": null,
   "metadata": {},
   "outputs": [],
   "source": [
    "from sklearn import svm\n",
    "\n",
    "svc = svm.SVC(kernel='linear', C=1, probability=True)\n",
    "svc.fit(tfidf_xtrain.toarray(), ytrain)\n",
    "predict_tfidf_svm = svc.predict(tfidf_xtest.toarray())\n",
    "\n",
    "from sklearn.metrics import accuracy_score \n",
    "\n",
    "print (accuracy_score(ytest, predict_tfidf_svm))\n",
    "# accuracy = 03990556821882123"
   ]
  }
 ],
 "metadata": {
  "kernelspec": {
   "display_name": "Python 3",
   "language": "python",
   "name": "python3"
  },
  "language_info": {
   "codemirror_mode": {
    "name": "ipython",
    "version": 3
   },
   "file_extension": ".py",
   "mimetype": "text/x-python",
   "name": "python",
   "nbconvert_exporter": "python",
   "pygments_lexer": "ipython3",
   "version": "3.5.2"
  }
 },
 "nbformat": 4,
 "nbformat_minor": 2
}
