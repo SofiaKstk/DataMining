{
 "cells": [
  {
   "cell_type": "markdown",
   "metadata": {},
   "source": [
    "# Data Mining\n",
    "### Project for Data Mining, Spring 2019\n",
    "\n",
    "\n",
    "Contributors\n",
    "------------\n",
    "\n",
    "* [Sofia Kostakonti](https://github.com/SofiaKstk/ \"Sofia Kostakonti\") : 1115201500080\n",
    "* [Ioannis Pelekoudas](https://github.com/pelekoudasq/ \"Ioannis Pelekoudas\") : 1115201500128"
   ]
  },
  {
   "cell_type": "markdown",
   "metadata": {},
   "source": [
    "#### First Part - Clean Data\n",
    "\n",
    "Αφαιρούμε τα σύμβολα, όπως hashtags, emoticons, emojis, τα links και τα stopwords από το training set."
   ]
  },
  {
   "cell_type": "code",
   "execution_count": 24,
   "metadata": {},
   "outputs": [
    {
     "data": {
      "text/html": [
       "<div>\n",
       "<style scoped>\n",
       "    .dataframe tbody tr th:only-of-type {\n",
       "        vertical-align: middle;\n",
       "    }\n",
       "\n",
       "    .dataframe tbody tr th {\n",
       "        vertical-align: top;\n",
       "    }\n",
       "\n",
       "    .dataframe thead th {\n",
       "        text-align: right;\n",
       "    }\n",
       "</style>\n",
       "<table border=\"1\" class=\"dataframe\">\n",
       "  <thead>\n",
       "    <tr style=\"text-align: right;\">\n",
       "      <th></th>\n",
       "      <th>3</th>\n",
       "    </tr>\n",
       "  </thead>\n",
       "  <tbody>\n",
       "    <tr>\n",
       "      <th>0</th>\n",
       "      <td>#ArianaGrande Ari By Ariana Grande 80% Full #S...</td>\n",
       "    </tr>\n",
       "    <tr>\n",
       "      <th>1</th>\n",
       "      <td>Ariana Grande KIIS FM Yours Truly CD listening...</td>\n",
       "    </tr>\n",
       "    <tr>\n",
       "      <th>2</th>\n",
       "      <td>Ariana Grande White House Easter Egg Roll in W...</td>\n",
       "    </tr>\n",
       "    <tr>\n",
       "      <th>3</th>\n",
       "      <td>#CD #Musics Ariana Grande Sweet Like Candy 3.4...</td>\n",
       "    </tr>\n",
       "    <tr>\n",
       "      <th>4</th>\n",
       "      <td>SIDE TO SIDE   @arianagrande #sidetoside #aria...</td>\n",
       "    </tr>\n",
       "    <tr>\n",
       "      <th>5</th>\n",
       "      <td>Hairspray Live! Previews at the Macy's Thanksg...</td>\n",
       "    </tr>\n",
       "    <tr>\n",
       "      <th>6</th>\n",
       "      <td>#LindsayLohan Is 'Feeling Thankful' After Blas...</td>\n",
       "    </tr>\n",
       "    <tr>\n",
       "      <th>7</th>\n",
       "      <td>I hate her but... I love her songs Dammit ._.#...</td>\n",
       "    </tr>\n",
       "    <tr>\n",
       "      <th>8</th>\n",
       "      <td>Ariana Grande  Right There ft. Big Sean #  #ar...</td>\n",
       "    </tr>\n",
       "    <tr>\n",
       "      <th>9</th>\n",
       "      <td>which one would you prefer to listen to for a ...</td>\n",
       "    </tr>\n",
       "  </tbody>\n",
       "</table>\n",
       "</div>"
      ],
      "text/plain": [
       "                                                   3\n",
       "0  #ArianaGrande Ari By Ariana Grande 80% Full #S...\n",
       "1  Ariana Grande KIIS FM Yours Truly CD listening...\n",
       "2  Ariana Grande White House Easter Egg Roll in W...\n",
       "3  #CD #Musics Ariana Grande Sweet Like Candy 3.4...\n",
       "4  SIDE TO SIDE   @arianagrande #sidetoside #aria...\n",
       "5  Hairspray Live! Previews at the Macy's Thanksg...\n",
       "6  #LindsayLohan Is 'Feeling Thankful' After Blas...\n",
       "7  I hate her but... I love her songs Dammit ._.#...\n",
       "8  Ariana Grande  Right There ft. Big Sean #  #ar...\n",
       "9  which one would you prefer to listen to for a ..."
      ]
     },
     "execution_count": 24,
     "metadata": {},
     "output_type": "execute_result"
    }
   ],
   "source": [
    "import pandas as pd\n",
    "\n",
    "\n",
    "DataLocation = r'/mnt/Year4/spring/datam/data-mining/twitter_data/test2017.tsv'\n",
    "\n",
    "df = pd.read_csv(DataLocation, sep='\\t', header=None, usecols=[3])\n",
    "\n",
    "df = df[:10]\n",
    "df"
   ]
  },
  {
   "cell_type": "code",
   "execution_count": null,
   "metadata": {},
   "outputs": [],
   "source": []
  }
 ],
 "metadata": {
  "kernelspec": {
   "display_name": "Python 3",
   "language": "python",
   "name": "python3"
  },
  "language_info": {
   "codemirror_mode": {
    "name": "ipython",
    "version": 3
   },
   "file_extension": ".py",
   "mimetype": "text/x-python",
   "name": "python",
   "nbconvert_exporter": "python",
   "pygments_lexer": "ipython3",
   "version": "3.6.7"
  }
 },
 "nbformat": 4,
 "nbformat_minor": 2
}
