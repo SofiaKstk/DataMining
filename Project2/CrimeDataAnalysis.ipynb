{
 "cells": [
  {
   "cell_type": "markdown",
   "metadata": {},
   "source": [
    "### 2η Εργασία στο μάθημα “Τεχνικές εξόρυξης Δεδομένων”\n",
    "#### Εαρινό Εξάμηνο 2018-19\n",
    "##### ΘΕΜΑ: Ανάλυση, περιγραφή, και αξιολόγηση σε μεγάλα δεδομένα.\n"
   ]
  },
  {
   "cell_type": "code",
   "execution_count": 37,
   "metadata": {},
   "outputs": [],
   "source": [
    "import numpy as np\n",
    "import pandas as pd\n",
    "# visualization\n",
    "import seaborn as sns #optional but nice to have!!!\n",
    "import matplotlib.pyplot as plt\n",
    "#matplotlib inline #if we are working on a notebook"
   ]
  },
  {
   "cell_type": "markdown",
   "metadata": {},
   "source": [
    "#### Read Data - Data Preperation"
   ]
  },
  {
   "cell_type": "code",
   "execution_count": 74,
   "metadata": {},
   "outputs": [
    {
     "data": {
      "text/html": [
       "<div>\n",
       "<style scoped>\n",
       "    .dataframe tbody tr th:only-of-type {\n",
       "        vertical-align: middle;\n",
       "    }\n",
       "\n",
       "    .dataframe tbody tr th {\n",
       "        vertical-align: top;\n",
       "    }\n",
       "\n",
       "    .dataframe thead th {\n",
       "        text-align: right;\n",
       "    }\n",
       "</style>\n",
       "<table border=\"1\" class=\"dataframe\">\n",
       "  <thead>\n",
       "    <tr style=\"text-align: right;\">\n",
       "      <th></th>\n",
       "      <th>INCIDENT_NUMBER</th>\n",
       "      <th>OFFENSE_CODE</th>\n",
       "      <th>OFFENSE_CODE_GROUP</th>\n",
       "      <th>OFFENSE_DESCRIPTION</th>\n",
       "      <th>DISTRICT</th>\n",
       "      <th>REPORTING_AREA</th>\n",
       "      <th>SHOOTING</th>\n",
       "      <th>OCCURRED_ON_DATE</th>\n",
       "      <th>YEAR</th>\n",
       "      <th>MONTH</th>\n",
       "      <th>DAY_OF_WEEK</th>\n",
       "      <th>HOUR</th>\n",
       "      <th>UCR_PART</th>\n",
       "      <th>STREET</th>\n",
       "      <th>Lat</th>\n",
       "      <th>Long</th>\n",
       "      <th>Location</th>\n",
       "    </tr>\n",
       "  </thead>\n",
       "  <tbody>\n",
       "    <tr>\n",
       "      <th>0</th>\n",
       "      <td>I182080058</td>\n",
       "      <td>2403</td>\n",
       "      <td>Disorderly Conduct</td>\n",
       "      <td>DISTURBING THE PEACE</td>\n",
       "      <td>E18</td>\n",
       "      <td>495</td>\n",
       "      <td>NaN</td>\n",
       "      <td>2018-10-03 20:13:00</td>\n",
       "      <td>2018</td>\n",
       "      <td>10</td>\n",
       "      <td>Wednesday</td>\n",
       "      <td>20</td>\n",
       "      <td>Part Two</td>\n",
       "      <td>ARLINGTON ST</td>\n",
       "      <td>42.262608</td>\n",
       "      <td>-71.121186</td>\n",
       "      <td>(42.26260773, -71.12118637)</td>\n",
       "    </tr>\n",
       "    <tr>\n",
       "      <th>1</th>\n",
       "      <td>I182080053</td>\n",
       "      <td>3201</td>\n",
       "      <td>Property Lost</td>\n",
       "      <td>PROPERTY - LOST</td>\n",
       "      <td>D14</td>\n",
       "      <td>795</td>\n",
       "      <td>NaN</td>\n",
       "      <td>2018-08-30 20:00:00</td>\n",
       "      <td>2018</td>\n",
       "      <td>8</td>\n",
       "      <td>Thursday</td>\n",
       "      <td>20</td>\n",
       "      <td>Part Three</td>\n",
       "      <td>ALLSTON ST</td>\n",
       "      <td>42.352111</td>\n",
       "      <td>-71.135311</td>\n",
       "      <td>(42.35211146, -71.13531147)</td>\n",
       "    </tr>\n",
       "    <tr>\n",
       "      <th>2</th>\n",
       "      <td>I182080052</td>\n",
       "      <td>2647</td>\n",
       "      <td>Other</td>\n",
       "      <td>THREATS TO DO BODILY HARM</td>\n",
       "      <td>B2</td>\n",
       "      <td>329</td>\n",
       "      <td>NaN</td>\n",
       "      <td>2018-10-03 19:20:00</td>\n",
       "      <td>2018</td>\n",
       "      <td>10</td>\n",
       "      <td>Wednesday</td>\n",
       "      <td>19</td>\n",
       "      <td>Part Two</td>\n",
       "      <td>DEVON ST</td>\n",
       "      <td>42.308126</td>\n",
       "      <td>-71.076930</td>\n",
       "      <td>(42.30812619, -71.07692974)</td>\n",
       "    </tr>\n",
       "    <tr>\n",
       "      <th>3</th>\n",
       "      <td>I182080051</td>\n",
       "      <td>413</td>\n",
       "      <td>Aggravated Assault</td>\n",
       "      <td>ASSAULT - AGGRAVATED - BATTERY</td>\n",
       "      <td>A1</td>\n",
       "      <td>92</td>\n",
       "      <td>NaN</td>\n",
       "      <td>2018-10-03 20:00:00</td>\n",
       "      <td>2018</td>\n",
       "      <td>10</td>\n",
       "      <td>Wednesday</td>\n",
       "      <td>20</td>\n",
       "      <td>Part One</td>\n",
       "      <td>CAMBRIDGE ST</td>\n",
       "      <td>42.359454</td>\n",
       "      <td>-71.059648</td>\n",
       "      <td>(42.35945371, -71.05964817)</td>\n",
       "    </tr>\n",
       "    <tr>\n",
       "      <th>4</th>\n",
       "      <td>I182080050</td>\n",
       "      <td>3122</td>\n",
       "      <td>Aircraft</td>\n",
       "      <td>AIRCRAFT INCIDENTS</td>\n",
       "      <td>A7</td>\n",
       "      <td>36</td>\n",
       "      <td>NaN</td>\n",
       "      <td>2018-10-03 20:49:00</td>\n",
       "      <td>2018</td>\n",
       "      <td>10</td>\n",
       "      <td>Wednesday</td>\n",
       "      <td>20</td>\n",
       "      <td>Part Three</td>\n",
       "      <td>PRESCOTT ST</td>\n",
       "      <td>42.375258</td>\n",
       "      <td>-71.024663</td>\n",
       "      <td>(42.37525782, -71.02466343)</td>\n",
       "    </tr>\n",
       "  </tbody>\n",
       "</table>\n",
       "</div>"
      ],
      "text/plain": [
       "  INCIDENT_NUMBER  OFFENSE_CODE  OFFENSE_CODE_GROUP  \\\n",
       "0      I182080058          2403  Disorderly Conduct   \n",
       "1      I182080053          3201       Property Lost   \n",
       "2      I182080052          2647               Other   \n",
       "3      I182080051           413  Aggravated Assault   \n",
       "4      I182080050          3122            Aircraft   \n",
       "\n",
       "              OFFENSE_DESCRIPTION DISTRICT REPORTING_AREA SHOOTING  \\\n",
       "0            DISTURBING THE PEACE      E18            495      NaN   \n",
       "1                 PROPERTY - LOST      D14            795      NaN   \n",
       "2       THREATS TO DO BODILY HARM       B2            329      NaN   \n",
       "3  ASSAULT - AGGRAVATED - BATTERY       A1             92      NaN   \n",
       "4              AIRCRAFT INCIDENTS       A7             36      NaN   \n",
       "\n",
       "      OCCURRED_ON_DATE  YEAR  MONTH DAY_OF_WEEK  HOUR    UCR_PART  \\\n",
       "0  2018-10-03 20:13:00  2018     10   Wednesday    20    Part Two   \n",
       "1  2018-08-30 20:00:00  2018      8    Thursday    20  Part Three   \n",
       "2  2018-10-03 19:20:00  2018     10   Wednesday    19    Part Two   \n",
       "3  2018-10-03 20:00:00  2018     10   Wednesday    20    Part One   \n",
       "4  2018-10-03 20:49:00  2018     10   Wednesday    20  Part Three   \n",
       "\n",
       "         STREET        Lat       Long                     Location  \n",
       "0  ARLINGTON ST  42.262608 -71.121186  (42.26260773, -71.12118637)  \n",
       "1    ALLSTON ST  42.352111 -71.135311  (42.35211146, -71.13531147)  \n",
       "2      DEVON ST  42.308126 -71.076930  (42.30812619, -71.07692974)  \n",
       "3  CAMBRIDGE ST  42.359454 -71.059648  (42.35945371, -71.05964817)  \n",
       "4   PRESCOTT ST  42.375258 -71.024663  (42.37525782, -71.02466343)  "
      ]
     },
     "execution_count": 74,
     "metadata": {},
     "output_type": "execute_result"
    }
   ],
   "source": [
    "df = pd.read_csv('./crime.csv', encoding = \"ISO-8859-1\")\n",
    "df.head()"
   ]
  },
  {
   "cell_type": "code",
   "execution_count": 39,
   "metadata": {},
   "outputs": [
    {
     "data": {
      "text/plain": [
       "array(['N', 'Y'], dtype=object)"
      ]
     },
     "execution_count": 39,
     "metadata": {},
     "output_type": "execute_result"
    }
   ],
   "source": [
    "df['SHOOTING'] = df['SHOOTING'].fillna('N')\n",
    "df['SHOOTING'].unique()"
   ]
  },
  {
   "cell_type": "markdown",
   "metadata": {},
   "source": [
    "### "
   ]
  },
  {
   "cell_type": "code",
   "execution_count": 66,
   "metadata": {},
   "outputs": [
    {
     "data": {
      "image/png": "[encoded data removed]",
      "text/plain": [
       "<Figure size 432x288 with 1 Axes>"
      ]
     },
     "metadata": {},
     "output_type": "display_data"
    }
   ],
   "source": [
    "#df.groupby(['YEAR']).size()\n",
    "yeardf = df[['YEAR', 'INCIDENT_NUMBER']].groupby(['YEAR'], as_index=False).count().rename(columns={'INCIDENT_NUMBER' : 'INCIDENTS'})\n",
    "sns.set(style=\"darkgrid\")\n",
    "ax = sns.barplot(x='YEAR', y='INCIDENTS', data=yeardf)"
   ]
  },
  {
   "cell_type": "code",
   "execution_count": 70,
   "metadata": {},
   "outputs": [
    {
     "data": {
      "image/png": "[encoded data removed]",
      "text/plain": [
       "<Figure size 432x288 with 1 Axes>"
      ]
     },
     "metadata": {},
     "output_type": "display_data"
    }
   ],
   "source": [
    "#df.groupby(['MONTH']).size()\n",
    "monthdf = df[['MONTH', 'INCIDENT_NUMBER']].groupby(['MONTH'], as_index=False).count().rename(columns={'INCIDENT_NUMBER' : 'INCIDENTS'})\n",
    "ax = sns.barplot(x='MONTH', y='INCIDENTS', data=monthdf)"
   ]
  },
  {
   "cell_type": "code",
   "execution_count": 71,
   "metadata": {},
   "outputs": [
    {
     "data": {
      "image/png": "[encoded data removed]",
      "text/plain": [
       "<Figure size 432x288 with 1 Axes>"
      ]
     },
     "metadata": {},
     "output_type": "display_data"
    }
   ],
   "source": [
    "#df.groupby(['DAY_OF_WEEK']).size()\n",
    "daydf = df[['DAY_OF_WEEK', 'INCIDENT_NUMBER']].groupby(['DAY_OF_WEEK'], as_index=False).count().rename(columns={'INCIDENT_NUMBER' : 'INCIDENTS'})\n",
    "ax = sns.barplot(x='DAY_OF_WEEK', y='INCIDENTS', data=daydf)"
   ]
  },
  {
   "cell_type": "code",
   "execution_count": 73,
   "metadata": {},
   "outputs": [
    {
     "data": {
      "image/png": "[encoded data removed]",
      "text/plain": [
       "<Figure size 432x288 with 1 Axes>"
      ]
     },
     "metadata": {},
     "output_type": "display_data"
    }
   ],
   "source": [
    "districtdf = df[['DISTRICT', 'INCIDENT_NUMBER']].groupby(['DISTRICT'], as_index=False).count().rename(columns={'INCIDENT_NUMBER' : 'INCIDENTS'})\n",
    "ax = sns.barplot(x='DISTRICT', y='INCIDENTS', data=districtdf)"
   ]
  },
  {
   "cell_type": "code",
   "execution_count": null,
   "metadata": {},
   "outputs": [],
   "source": []
  }
 ],
 "metadata": {
  "kernelspec": {
   "display_name": "Python 3",
   "language": "python",
   "name": "python3"
  },
  "language_info": {
   "codemirror_mode": {
    "name": "ipython",
    "version": 3
   },
   "file_extension": ".py",
   "mimetype": "text/x-python",
   "name": "python",
   "nbconvert_exporter": "python",
   "pygments_lexer": "ipython3",
   "version": "3.6.7"
  }
 },
 "nbformat": 4,
 "nbformat_minor": 2
}
